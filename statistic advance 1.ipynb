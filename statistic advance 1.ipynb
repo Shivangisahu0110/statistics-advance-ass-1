{
 "cells": [
  {
   "cell_type": "markdown",
   "id": "d5a49a64-c1ac-4796-820c-7db5ba6c230d",
   "metadata": {},
   "source": [
    "Q1. What is the Probability density function?"
   ]
  },
  {
   "cell_type": "markdown",
   "id": "7f1fede5-4174-4740-bb2a-73927920a9ad",
   "metadata": {},
   "source": [
    "The Probability Density Function (PDF) is a statistical concept used in probability theory and statistics. It describes the likelihood of a continuous random variable taking on a specific value. For a continuous random variable, the probability of any single point is technically zero. Instead, the PDF provides the probability of the random variable falling within a specific range.\n",
    "\n",
    "Mathematically, for a continuous random variable X, the probability density function is denoted as f(x), and it satisfies the following conditions:\n",
    "\n",
    "f(x)≥0 for all x (non-negativity).\n",
    "\n",
    "\n",
    "The total area under the curve of the PDF over the entire range of possible values is equal to 1.\n"
   ]
  },
  {
   "cell_type": "markdown",
   "id": "f4169e00-7134-4e90-88f5-89ff8519e8d6",
   "metadata": {},
   "source": [
    "Q2. What are the types of Probability distribution?"
   ]
  },
  {
   "cell_type": "markdown",
   "id": "758cd0be-2c76-4ee4-82c0-a63f784c2e8c",
   "metadata": {},
   "source": [
    "Discrete Probability Distributions:\n",
    "\n",
    "Bernoulli Distribution:\n",
    "Represents two possible outcomes (success or failure) with a fixed probability of success.\n",
    "Example: Coin toss (heads or tails).\n",
    "\n",
    "Binomial Distribution:\n",
    "Describes the number of successes in a fixed number of independent Bernoulli trials.\n",
    "Parameters: number of trials (n) and probability of success (p).\n",
    "Example: Number of heads in multiple coin tosses.\n",
    "\n",
    "Poisson Distribution:\n",
    "Models the number of events occurring in fixed intervals of time or space.\n",
    "Parameter: average rate of occurrence (λ).\n",
    "Example: Number of phone calls received in an hour.\n",
    "\n",
    "\n",
    "Continuous Probability Distributions:\n",
    "\n",
    "Uniform Distribution:\n",
    "All outcomes are equally likely within a specified range.\n",
    "Example: Random selection from a continuous range.\n",
    "\n",
    "Normal Distribution (Gaussian Distribution):\n",
    "Symmetric, bell-shaped curve.\n",
    "Parameters: mean (μ) and standard deviation (σ).\n",
    "Central Limit Theorem states that the sum or average of a large number of independent, identically distributed random variables will be approximately normally distributed.\n",
    "Widely used in statistics.\n",
    "\n",
    "Exponential Distribution:\n",
    "Models the time until an event occurs in a continuous process.\n",
    "Parameter: rate parameter (λ).\n",
    "Example: Time until the next arrival of a customer.\n",
    "\n",
    "Gamma Distribution:\n",
    "Generalization of the exponential distribution, allowing for a shape parameter.\n",
    "Used to model waiting times or the sum of certain distributions.\n",
    "\n",
    "Log-Normal Distribution:\n",
    "Distribution of a random variable whose logarithm is normally distributed.\n",
    "Often used for modeling stock prices.\n",
    "\n",
    "Chi-Square Distribution:\n",
    "Distribution of the sum of squared standard normal deviates.\n",
    "Used in hypothesis testing and confidence interval construction.\n",
    "\n",
    "Beta Distribution:\n",
    "Describes the distribution of random variables constrained to the interval [0, 1].\n",
    "Used as a prior distribution in Bayesian statistics."
   ]
  },
  {
   "cell_type": "markdown",
   "id": "03bd77ae-d5c9-4051-a28c-5a86b5d8b3a2",
   "metadata": {},
   "source": [
    "Q3- Write a Python function to calculate the probability density function of a normal distribution with\n",
    "given mean and standard deviation at a given point."
   ]
  },
  {
   "attachments": {
    "3ca4b642-6fcd-49d3-a313-5048a48e7b0e.png": {
     "image/png": "[encoded data removed]"
    }
   },
   "cell_type": "markdown",
   "id": "493292ae-1f22-4c92-8533-64e579463840",
   "metadata": {},
   "source": [
    "dksn ![image.png](attachment:3ca4b642-6fcd-49d3-a313-5048a48e7b0e.png)"
   ]
  },
  {
   "cell_type": "code",
   "execution_count": 38,
   "id": "6fb6546b-732a-4166-afec-f483398606ab",
   "metadata": {},
   "outputs": [
    {
     "data": {
      "text/plain": [
       "0.03324519003345273"
      ]
     },
     "execution_count": 38,
     "metadata": {},
     "output_type": "execute_result"
    }
   ],
   "source": [
    "import math\n",
    "\n",
    "def normal_distribution(x,u,std):\n",
    "    # parameters : x, mean and standard deviation\n",
    "    \n",
    "    coefficient = 1/(std*(math.sqrt(2*math.pi)))\n",
    "    exponent = math.exp(-((x-u)**2)/2*std**2)\n",
    "    pdf_value = coefficient * exponent\n",
    "    return  pdf_value\n",
    "\n",
    "u=10\n",
    "std=12\n",
    "x=10\n",
    "    \n",
    "normal_distribution(x,u,std)\n",
    "\n",
    "        "
   ]
  },
  {
   "cell_type": "markdown",
   "id": "991de920-0724-4c57-8f6c-7ae1b75a4cb9",
   "metadata": {},
   "source": [
    "Q4. What are the properties of Binomial distribution? Give two examples of events where binomial\n",
    "distribution can be applied."
   ]
  },
  {
   "cell_type": "markdown",
   "id": "2a73fd4a-6676-4ca8-b076-bb0a3a5d2d70",
   "metadata": {},
   "source": [
    "The properties of the Binomial distribution include:\n",
    "\n",
    "Fixed Number of Trials (n): The distribution is defined for a fixed number of trials, denoted by \n",
    "n.\n",
    "\n",
    "Independent Trials: Each trial must be independent of the others. The outcome of one trial does not affect the outcome of another.\n",
    "\n",
    "Two Possible Outcomes: Each trial has only two possible outcomes, often denoted as success (usually coded as 1) or failure (coded as 0).\n",
    "\n",
    "Constant Probability of Success (p): The probability of success (p) is constant across all trials. Similarly, the probability of failure (q=1−p) is also constant.\n",
    "\n",
    "Discreteness: The random variable representing the number of successes is discrete. It takes on integer values from 0 to n."
   ]
  },
  {
   "cell_type": "markdown",
   "id": "6a917dd9-b3cb-4c7a-beb7-8bd4292a39c9",
   "metadata": {},
   "source": [
    "Examples of events where the Binomial distribution can be applied include:\n",
    "\n",
    "Coin Flipping: Consider a fair coin (with p =0.5) flipped 10 times (n=10). The number of heads obtained follows a Binomial distribution.\n",
    "\n",
    "Quality Control: In a manufacturing process, products are inspected one by one, and each product is either defective or non-defective. The number of defective products in a sample of a fixed size (n) follows a Binomial distribution."
   ]
  },
  {
   "cell_type": "markdown",
   "id": "c4c7cb4a-91d3-4484-a47c-23e6636c1fe6",
   "metadata": {},
   "source": [
    "Q5. Generate a random sample of size 1000 from a binomial distribution with probability of success 0.4\n",
    "and plot a histogram of the results using matplotlib."
   ]
  },
  {
   "cell_type": "code",
   "execution_count": 65,
   "id": "aecfc0f8-9ac9-498b-a977-c0d898b846b5",
   "metadata": {},
   "outputs": [
    {
     "data": {
      "image/png": "[encoded data removed]",
      "text/plain": [
       "<Figure size 640x480 with 1 Axes>"
      ]
     },
     "metadata": {},
     "output_type": "display_data"
    }
   ],
   "source": [
    "import numpy as np\n",
    "import matplotlib.pyplot as plt\n",
    "\n",
    "n= 1\n",
    "p = 0.4\n",
    "size = 1000\n",
    "binomial_sample = np.random.binomial(n,p,size)\n",
    "\n",
    "plt.hist(binomial_distribution)\n",
    "plt.xlabel('Number of Successes')\n",
    "plt.ylabel('Frequency')\n",
    "plt.show()"
   ]
  },
  {
   "cell_type": "markdown",
   "id": "f280d8d6-d258-42c3-b428-e64dde322644",
   "metadata": {},
   "source": [
    "Q6. Write a Python function to calculate the cumulative distribution function of a Poisson distribution\n",
    "with given mean at a given point."
   ]
  },
  {
   "cell_type": "code",
   "execution_count": 67,
   "id": "b1a3d496-3bfe-469f-8b36-68029d20e3a9",
   "metadata": {},
   "outputs": [
    {
     "data": {
      "text/plain": [
       "0.9863047314016171"
      ]
     },
     "execution_count": 67,
     "metadata": {},
     "output_type": "execute_result"
    }
   ],
   "source": [
    "def poisson_distribution(k,mean):\n",
    "    cdf_value = 0.0\n",
    "    for x in range (k+1):\n",
    "        cdf_value += (math.exp(-mean)*(mean**x))/(math.factorial(x))\n",
    "    return cdf_value\n",
    "k =10\n",
    "mean =5\n",
    "\n",
    "poisson_distribution(k,mean)"
   ]
  },
  {
   "cell_type": "markdown",
   "id": "79f32738-7e1a-4bc6-ade3-2b56f2a74edd",
   "metadata": {},
   "source": [
    "Q7. How Binomial distribution different from Poisson distribution?"
   ]
  },
  {
   "cell_type": "markdown",
   "id": "9eea942c-5ac0-4376-91b0-c24be6275043",
   "metadata": {},
   "source": [
    "Number of Trials:\n",
    "\n",
    "Binomial Distribution: Describes the number of successes in a fixed number of independent and identically distributed (i.i.d.) Bernoulli trials, where each trial can result in either success or failure.\n",
    "\n",
    "Poisson Distribution: Describes the number of events that occur in a fixed interval of time or space. It is used when events happen randomly and independently, but the number of events is not fixed in advance.\n",
    "\n",
    "Probability of Success:\n",
    "\n",
    "Binomial Distribution: Requires a constant probability of success (p) for each trial.\n",
    "\n",
    "Poisson Distribution: Describes events that occur at a known average rate (λ) per unit of time or space.\n",
    "\n",
    "Parameterization:\n",
    "\n",
    "Binomial Distribution: Defined by two parameters - the number of trials (n) and the probability of success (p).\n",
    "\n",
    "Poisson Distribution: Defined by a single parameter - the average rate (λ).\n",
    "\n",
    "Assumptions:\n",
    "\n",
    "Binomial Distribution: Appropriate when there is a fixed number of trials and each trial has two possible outcomes (success or failure).\n",
    "\n",
    "Poisson Distribution: Appropriate when events occur independently at a constant average rate, and the probability of more than one event occurring in an infinitesimally small interval is negligible.\n",
    "\n",
    "Shape of Distribution:\n",
    "\n",
    "Binomial Distribution: Can be symmetric or skewed, depending on the values of n and p.\n",
    "\n",
    "Poisson Distribution: Often skewed to the right, especially for small values of λ."
   ]
  },
  {
   "cell_type": "markdown",
   "id": "ecc38c2c-d07e-4fa9-84c3-eced762172be",
   "metadata": {},
   "source": [
    "Q8. Generate a random sample of size 1000 from a Poisson distribution with mean 5 and calculate the\n",
    "sample mean and variance."
   ]
  },
  {
   "cell_type": "code",
   "execution_count": 81,
   "id": "7d69075e-3850-452d-8f07-1228d2277a27",
   "metadata": {},
   "outputs": [
    {
     "name": "stdout",
     "output_type": "stream",
     "text": [
      "4.985\n",
      "4.9967749999999995\n"
     ]
    }
   ],
   "source": [
    "mean = 5\n",
    "size = 1000\n",
    "\n",
    "np.random.seed(42)\n",
    "\n",
    "poisson_sample = np.random.poisson(mean,size)\n",
    "\n",
    "mean_sample = np.mean(poisson_sample)\n",
    "variance_sample = np.var(poisson_sample)\n",
    "\n",
    "print (mean_sample)\n",
    "print (variance_sample)"
   ]
  },
  {
   "cell_type": "markdown",
   "id": "838aecf8-da82-4c8f-985d-0fd7f69f333e",
   "metadata": {},
   "source": [
    "Q9. How mean and variance are related in Binomial distribution and Poisson distribution?"
   ]
  },
  {
   "cell_type": "markdown",
   "id": "97f6381e-c468-4a05-9c49-df0e50c89329",
   "metadata": {
    "jp-MarkdownHeadingCollapsed": true,
    "tags": []
   },
   "source": [
    "Binomial Distribution:\n",
    "\n",
    "For a Binomial distribution with parameters n (number of trials) and p (probability of success in each trial), the mean (μ) and variance (σ2) are related as follows:\n",
    "μ = np\n",
    "σ2 =np(1−p)\n",
    "\n",
    "In a Binomial distribution, the variance is dependent on both the number of trials and the probability of success. As the probability of success (p) approaches 0 or 1, the variance tends to decrease.\n",
    "\n",
    "Poisson Distribution:\n",
    "\n",
    "For a Poisson distribution with parameter λ (average rate or mean), the mean (μ) and variance (σ2) are equal:\n",
    "\n",
    "μ= σ2 =λ\n",
    "\n",
    "In a Poisson distribution, the mean and variance are both equal to the average rate of events (λ). This reflects the characteristic of the Poisson distribution, where events occur randomly and independently at a constant rate."
   ]
  },
  {
   "cell_type": "markdown",
   "id": "c04d0472-bb7e-4964-83a0-9f39905c2825",
   "metadata": {},
   "source": [
    "Q10. In normal distribution with respect to mean position, where does the least frequent data appear?"
   ]
  },
  {
   "cell_type": "markdown",
   "id": "b402931c-23a9-4d09-a446-e5b6979f74ad",
   "metadata": {},
   "source": [
    "The least frequent data points are found in the tails, both on the left (negative) and right (positive) sides of the mean. This is because extreme values are less likely to occur in a normal distribution.\n",
    "\n",
    "In a standard normal distribution (with a mean of 0 and a standard deviation of 1), approximately 68% of the data falls within one standard deviation of the mean, about 95% within two standard deviations, and approximately 99.7% within three standard deviations. Therefore, the values beyond three standard deviations from the mean are considered rare and occur with very low frequency in a normal distribution."
   ]
  },
  {
   "cell_type": "code",
   "execution_count": null,
   "id": "a4ed14dc-ab56-42c8-8aee-48615668b93d",
   "metadata": {},
   "outputs": [],
   "source": []
  }
 ],
 "metadata": {
  "kernelspec": {
   "display_name": "Python 3 (ipykernel)",
   "language": "python",
   "name": "python3"
  },
  "language_info": {
   "codemirror_mode": {
    "name": "ipython",
    "version": 3
   },
   "file_extension": ".py",
   "mimetype": "text/x-python",
   "name": "python",
   "nbconvert_exporter": "python",
   "pygments_lexer": "ipython3",
   "version": "3.10.8"
  }
 },
 "nbformat": 4,
 "nbformat_minor": 5
}
